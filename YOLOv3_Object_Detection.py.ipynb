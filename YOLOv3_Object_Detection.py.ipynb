{
  "cells": [
    {
      "cell_type": "markdown",
      "metadata": {
        "id": "wHBQcQzjD6HJ"
      },
      "source": [
        "**Connect google drive**"
      ]
    },
    {
      "cell_type": "code",
      "execution_count": null,
      "metadata": {
        "colab": {
          "base_uri": "https://localhost:8080/"
        },
        "id": "bwp6NIrsZZFP",
        "outputId": "ec924fb4-7793-49c5-9b22-d7c16b4cfd07"
      },
      "outputs": [],
      "source": [
        "# Check if NVIDIA GPU is enabled\n",
        "!nvidia-smi"
      ]
    },
    {
      "cell_type": "code",
      "execution_count": null,
      "metadata": {
        "colab": {
          "base_uri": "https://localhost:8080/"
        },
        "id": "9e9ZW3sqMEPO",
        "outputId": "03b1155b-17da-4ada-8f08-ba20acc898ac"
      },
      "outputs": [],
      "source": [
        "from google.colab import drive\n",
        "drive.mount('/content/gdrive')\n"
      ]
    },
    {
      "cell_type": "markdown",
      "metadata": {
        "id": "t7utW4in4azV"
      },
      "source": [
        "**1) Clone, configure & compile Darknet**\n",
        "\n"
      ]
    },
    {
      "cell_type": "code",
      "execution_count": null,
      "metadata": {
        "colab": {
          "base_uri": "https://localhost:8080/"
        },
        "id": "e03U7Zi-qMr2",
        "outputId": "3817d038-6441-4ec4-d1aa-f0be2b2dd5f8"
      },
      "outputs": [],
      "source": [
        "# Clone\n",
        "!git clone https://github.com/AlexeyAB/darknet"
      ]
    },
    {
      "cell_type": "code",
      "execution_count": null,
      "metadata": {
        "colab": {
          "base_uri": "https://localhost:8080/"
        },
        "id": "7hzfEWSuONhz",
        "outputId": "fe8006e3-849c-49d0-9cec-c139c2b7e0f4"
      },
      "outputs": [],
      "source": [
        "# Configure\n",
        "%cd darknet\n",
        "!sed -i 's/OPENCV=0/OPENCV=1/' Makefile\n",
        "!sed -i 's/GPU=0/GPU=1/' Makefile\n",
        "!sed -i 's/CUDNN=0/CUDNN=1/' Makefile"
      ]
    },
    {
      "cell_type": "code",
      "execution_count": null,
      "metadata": {
        "colab": {
          "base_uri": "https://localhost:8080/"
        },
        "id": "EBBokOq5OOA5",
        "outputId": "029b70d9-a090-4ff6-a1e9-1751392d30c4"
      },
      "outputs": [],
      "source": [
        "# Compile\n",
        "!make"
      ]
    },
    {
      "cell_type": "markdown",
      "metadata": {
        "id": "gAOLtA_qI9vF"
      },
      "source": [
        "**2) Configure yolov3.cfg file**"
      ]
    },
    {
      "cell_type": "code",
      "execution_count": null,
      "metadata": {
        "id": "s-RpscgU853t"
      },
      "outputs": [],
      "source": [
        "# Make a copy of yolov3.cfg\n",
        "!cp cfg/yolov3.cfg cfg/yolov3_training.cfg"
      ]
    },
    {
      "cell_type": "code",
      "execution_count": null,
      "metadata": {
        "id": "5ZgVQRop_vwR"
      },
      "outputs": [],
      "source": [
        "# Change lines in yolov3.cfg file\n",
        "!sed -i 's/batch=1/batch=64/' cfg/yolov3_training.cfg\n",
        "!sed -i 's/subdivisions=1/subdivisions=16/' cfg/yolov3_training.cfg\n",
        "!sed -i 's/max_batches = 500200/max_batches = 4000/' cfg/yolov3_training.cfg\n",
        "!sed -i '610 s@classes=80@classes=2@' cfg/yolov3_training.cfg\n",
        "!sed -i '696 s@classes=80@classes=2@' cfg/yolov3_training.cfg\n",
        "!sed -i '783 s@classes=80@classes=2@' cfg/yolov3_training.cfg\n",
        "!sed -i '603 s@filters=255@filters=21@' cfg/yolov3_training.cfg\n",
        "!sed -i '689 s@filters=255@filters=21@' cfg/yolov3_training.cfg\n",
        "!sed -i '776 s@filters=255@filters=21@' cfg/yolov3_training.cfg"
      ]
    },
    {
      "cell_type": "markdown",
      "metadata": {
        "id": "88p9BIjkPTRv"
      },
      "source": [
        "**3) Create .names and .data files**"
      ]
    },
    {
      "cell_type": "code",
      "execution_count": null,
      "metadata": {
        "id": "7AIBw_psIclz"
      },
      "outputs": [],
      "source": [
        "!echo -e 'job\\nbeam_number' > data/obj.names\n",
        "!echo -e 'classes= 2\\ntrain  = data/train.txt\\nvalid  = data/test.txt\\nnames = data/obj.names\\nbackup = /content/weight' > data/obj.data"
      ]
    },
    {
      "cell_type": "markdown",
      "metadata": {
        "id": "dqFFqbUJMtN-"
      },
      "source": [
        "**4) Save yolov3_training.cfg and obj.names files in Google drive**"
      ]
    },
    {
      "cell_type": "code",
      "execution_count": null,
      "metadata": {
        "colab": {
          "base_uri": "https://localhost:8080/"
        },
        "id": "TCZkv8mESkTF",
        "outputId": "63df0377-32fb-437b-b86b-64bc7a0feb3e"
      },
      "outputs": [],
      "source": [
        "!mkdir /content/gdrive/MyDrive/Yolo_v3/yolov3_testing.cfg\n",
        "!mkdir /content/gdrive/MyDrive/Yolo_v3/classes.txt"
      ]
    },
    {
      "cell_type": "code",
      "execution_count": null,
      "metadata": {
        "id": "67o96gV7L0Uv"
      },
      "outputs": [],
      "source": [
        "!cp cfg/yolov3_training.cfg /content/gdrive/MyDrive/Yolo_v3/yolov3_testing.cfg\n",
        "!cp data/obj.names /content/gdrive/MyDrive/Yolo_v3/classes.txt"
      ]
    },
    {
      "cell_type": "markdown",
      "metadata": {
        "id": "9RbVKJjoncW2"
      },
      "source": [
        "**5) Create a folder and unzip image dataset**"
      ]
    },
    {
      "cell_type": "code",
      "execution_count": null,
      "metadata": {
        "colab": {
          "base_uri": "https://localhost:8080/"
        },
        "id": "eZlkzFMW7I_N",
        "outputId": "3bc047c3-7c04-4112-f22a-4ae4ffe2ad51"
      },
      "outputs": [],
      "source": [
        "!mkdir data/obj\n",
        "!unzip /content/gdrive/MyDrive/ocr_ds.zip -d data/obj"
      ]
    },
    {
      "cell_type": "markdown",
      "metadata": {
        "id": "ogBdNwRaZ50U"
      },
      "source": [
        "**6) Create train.txt file**"
      ]
    },
    {
      "cell_type": "code",
      "execution_count": null,
      "metadata": {
        "id": "DGUyXxeYX0IP"
      },
      "outputs": [],
      "source": [
        "import glob\n",
        "images_list = glob.glob(\"data/obj/ocr_ds/*.jpg\")\n",
        "with open(\"data/train.txt\", \"w\") as f:\n",
        "    f.write(\"\\n\".join(images_list))"
      ]
    },
    {
      "cell_type": "markdown",
      "metadata": {
        "id": "084L-LLPqxQe"
      },
      "source": [
        "**7) Download pre-trained weights for the convolutional layers file**"
      ]
    },
    {
      "cell_type": "code",
      "execution_count": null,
      "metadata": {
        "colab": {
          "base_uri": "https://localhost:8080/"
        },
        "id": "jhb5nZvsQ_96",
        "outputId": "033356c2-c40a-4940-8b0d-059aae3d6e51"
      },
      "outputs": [],
      "source": [
        "!wget https://pjreddie.com/media/files/darknet53.conv.74"
      ]
    },
    {
      "cell_type": "markdown",
      "metadata": {
        "id": "CeSiuLrXoAjc"
      },
      "source": [
        "**8) Start training**"
      ]
    },
    {
      "cell_type": "code",
      "execution_count": null,
      "metadata": {
        "colab": {
          "base_uri": "https://localhost:8080/"
        },
        "id": "S3_g3jclUzMm",
        "outputId": "1da83870-26f1-4084-feda-de62bc63b0b4"
      },
      "outputs": [],
      "source": [
        "!./darknet detector train data/obj.data cfg/yolov3_training.cfg darknet53.conv.74 -dont_show\n",
        "# Uncomment below and comment above to re-start your training from last saved weights\n",
        "#!./darknet detector train data/obj.data cfg/yolov3_training.cfg /mydrive/yolov3/yolov3_training_last.weights -dont_show"
      ]
    }
  ],
  "metadata": {
    "accelerator": "GPU",
    "colab": {
      "gpuType": "T4",
      "provenance": []
    },
    "kernelspec": {
      "display_name": "Python 3",
      "language": "python",
      "name": "python3"
    },
    "language_info": {
      "name": "python",
      "version": "3.8.10 (tags/v3.8.10:3d8993a, May  3 2021, 11:48:03) [MSC v.1928 64 bit (AMD64)]"
    },
    "vscode": {
      "interpreter": {
        "hash": "2e5afd3d38132bb8c460d9471af535933b6d7b291eb68f4648c18d551b91b4e9"
      }
    }
  },
  "nbformat": 4,
  "nbformat_minor": 0
}
